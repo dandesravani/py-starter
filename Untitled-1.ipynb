{
 "cells": [
  {
   "cell_type": "code",
   "execution_count": 2,
   "metadata": {},
   "outputs": [
    {
     "data": {
      "text/plain": [
       "'odd'"
      ]
     },
     "execution_count": 2,
     "metadata": {},
     "output_type": "execute_result"
    }
   ],
   "source": [
    "from hello import odd\n",
    "odd(7)"
   ]
  },
  {
   "cell_type": "code",
   "execution_count": 7,
   "metadata": {},
   "outputs": [
    {
     "name": "stdout",
     "output_type": "stream",
     "text": [
      "[1, 25]\n"
     ]
    }
   ],
   "source": [
    "n=5\n",
    "squares = [k*k for k in range(1,n+1) if n % k ==0]\n",
    "print(squares)"
   ]
  },
  {
   "cell_type": "code",
   "execution_count": 29,
   "metadata": {},
   "outputs": [
    {
     "name": "stdout",
     "output_type": "stream",
     "text": [
      "[1, 1, 2, 3, 5, 8]\n"
     ]
    }
   ],
   "source": [
    "def fibonacci(n:int)->list[int]:\n",
    "    a,b=0,1\n",
    "    result:list[int] = []\n",
    "    while n>b:\n",
    "        future = a+b\n",
    "        a=b\n",
    "        b=future\n",
    "        result.append(a)\n",
    "    return result\n",
    "\n",
    "print(fibonacci(10))"
   ]
  },
  {
   "cell_type": "code",
   "execution_count": 21,
   "metadata": {},
   "outputs": [
    {
     "data": {
      "text/plain": [
       "[1, 1, 2, 3, 5, 8, 13, 21, 34, 55]"
      ]
     },
     "execution_count": 21,
     "metadata": {},
     "output_type": "execute_result"
    }
   ],
   "source": [
    "# from itertools import islice\n",
    "\n",
    "# print(list(islice(fibonacci(), 10)))"
   ]
  },
  {
   "cell_type": "code",
   "execution_count": 30,
   "metadata": {},
   "outputs": [
    {
     "name": "stdout",
     "output_type": "stream",
     "text": [
      "name should be string\n",
      "123\n"
     ]
    }
   ],
   "source": [
    "# name= input(\"Enter your name\")\n",
    "# try:\n",
    "#     if name is not isinstance(name ,str):\n",
    "#         print(\"name should be string\")\n",
    "# except (ValueError,EOFError):\n",
    "#         print(\"inValid response\")\n",
    "\n",
    "# print(name)"
   ]
  },
  {
   "cell_type": "code",
   "execution_count": 40,
   "metadata": {},
   "outputs": [
    {
     "name": "stdout",
     "output_type": "stream",
     "text": [
      "28.274333882308138\n"
     ]
    }
   ],
   "source": [
    "radius = float(input(\"Enter the radius: \"))\n",
    "import math\n",
    "pi = math.pi\n",
    "areaCircle = pi*math.pow(radius,2)\n",
    "print(areaCircle)"
   ]
  },
  {
   "cell_type": "code",
   "execution_count": 48,
   "metadata": {},
   "outputs": [
    {
     "name": "stdout",
     "output_type": "stream",
     "text": [
      "200.0\n"
     ]
    }
   ],
   "source": [
    "rect = input(\"Enter the length and breadth values seperated by spaces: \")\n",
    "length = float(rect.split()[0])\n",
    "breadth = float(rect.split()[1])\n",
    "areaRect = length *breadth\n",
    "print(areaRect)"
   ]
  },
  {
   "cell_type": "code",
   "execution_count": 52,
   "metadata": {},
   "outputs": [
    {
     "name": "stdout",
     "output_type": "stream",
     "text": [
      "120\n"
     ]
    }
   ],
   "source": [
    "def factorial(n:int):\n",
    "    fact=1\n",
    "    for k in range(2,n+1):\n",
    "        fact*=k\n",
    "    return fact\n",
    "\n",
    "print(factorial(5))"
   ]
  },
  {
   "cell_type": "code",
   "execution_count": 93,
   "metadata": {},
   "outputs": [
    {
     "data": {
      "text/plain": [
       "False"
      ]
     },
     "execution_count": 93,
     "metadata": {},
     "output_type": "execute_result"
    }
   ],
   "source": [
    "# num = int(input(\"Enter number: \"))\n",
    "def isPrime(n:int):\n",
    "    for k in range(2,int(n**0.5)+1):\n",
    "        if n%k ==0:\n",
    "            return False\n",
    "    return True\n",
    "\n",
    "isPrime(15)"
   ]
  },
  {
   "cell_type": "code",
   "execution_count": 100,
   "metadata": {},
   "outputs": [
    {
     "data": {
      "text/plain": [
       "[1, 13]"
      ]
     },
     "execution_count": 100,
     "metadata": {},
     "output_type": "execute_result"
    }
   ],
   "source": [
    "def findFactors(n:int)->list[int]:\n",
    "    res:list[int]=[]\n",
    "    for k in  range(1,n+1):\n",
    "        if n%k==0:\n",
    "            res.append(k)\n",
    "    return res\n",
    "\n",
    "findFactors(13)\n"
   ]
  },
  {
   "cell_type": "code",
   "execution_count": 114,
   "metadata": {},
   "outputs": [
    {
     "data": {
      "text/plain": [
       "4"
      ]
     },
     "execution_count": 114,
     "metadata": {},
     "output_type": "execute_result"
    }
   ],
   "source": [
    "def findGcd(n1:int,n2:int):\n",
    "    max= 0\n",
    "    for k in range(1,n1+1):\n",
    "       if n1%k==0 and n2%k==0:\n",
    "           max= k\n",
    "    return max\n",
    "\n",
    "\n",
    "findGcd(4,12)"
   ]
  },
  {
   "cell_type": "code",
   "execution_count": 117,
   "metadata": {},
   "outputs": [
    {
     "data": {
      "text/plain": [
       "5.5"
      ]
     },
     "execution_count": 117,
     "metadata": {},
     "output_type": "execute_result"
    }
   ],
   "source": [
    "def findAvg(n:int):\n",
    "    avg=0\n",
    "    sum=0\n",
    "    for k in range(1,n+1):\n",
    "        sum+=k\n",
    "    avg= float(sum/n)\n",
    "    return avg\n",
    "\n",
    "findAvg(10)"
   ]
  },
  {
   "cell_type": "code",
   "execution_count": 11,
   "metadata": {},
   "outputs": [
    {
     "data": {
      "text/plain": [
       "4"
      ]
     },
     "execution_count": 11,
     "metadata": {},
     "output_type": "execute_result"
    }
   ],
   "source": [
    "def countVowels(word:str):\n",
    "    count=0\n",
    "    vowels = ['a','e','i','o','u']\n",
    "    for e in word.lower():\n",
    "        if e in vowels:\n",
    "            count+=1\n",
    "    return count\n",
    "\n",
    "countVowels(\"icecream\")\n"
   ]
  },
  {
   "cell_type": "code",
   "execution_count": 34,
   "metadata": {},
   "outputs": [
    {
     "name": "stdout",
     "output_type": "stream",
     "text": [
      "['djh', 'dsa', 'kjshfjz', 'sjh', 'zhjsfhz']\n"
     ]
    }
   ],
   "source": [
    "def countAndSortWords(text:str):\n",
    "   listOfWords = text.split()\n",
    "   return listOfWords\n",
    "\n",
    "\n",
    "val = (countAndSortWords(\"dsa sjh djh zhjsfhz kjshfjz\"))\n",
    "val.sort()\n",
    "print(val)"
   ]
  },
  {
   "cell_type": "code",
   "execution_count": 35,
   "metadata": {},
   "outputs": [
    {
     "name": "stdout",
     "output_type": "stream",
     "text": [
      "[1, 4, 6, 8]\n"
     ]
    }
   ],
   "source": [
    "val = [4,1,8,6]\n",
    "val.sort()\n",
    "print(val)"
   ]
  },
  {
   "cell_type": "code",
   "execution_count": 41,
   "metadata": {},
   "outputs": [
    {
     "name": "stdout",
     "output_type": "stream",
     "text": [
      "string values are not allowed\n"
     ]
    },
    {
     "data": {
      "text/plain": [
       "7"
      ]
     },
     "execution_count": 41,
     "metadata": {},
     "output_type": "execute_result"
    }
   ],
   "source": [
    "from typing import Any\n",
    "\n",
    "def sumOfInteger(values:list[Any])->int:\n",
    "    count= 0\n",
    "    for val in values:\n",
    "        try:\n",
    "            intNum = int(val)\n",
    "            count+=intNum\n",
    "        except ValueError:\n",
    "            print(\"string values are not allowed\")\n",
    "    return count\n",
    "\n",
    "sumOfInteger([1,2,\"helo\",4])"
   ]
  },
  {
   "cell_type": "code",
   "execution_count": 53,
   "metadata": {},
   "outputs": [
    {
     "data": {
      "text/plain": [
       "True"
      ]
     },
     "execution_count": 53,
     "metadata": {},
     "output_type": "execute_result"
    }
   ],
   "source": [
    "def is_multiple(n:int,m:int):\n",
    "    return True if m%n==0 else False\n",
    "\n",
    "is_multiple(18,36)"
   ]
  },
  {
   "cell_type": "code",
   "execution_count": 81,
   "metadata": {},
   "outputs": [
    {
     "data": {
      "text/plain": [
       "(2, 190)"
      ]
     },
     "execution_count": 81,
     "metadata": {},
     "output_type": "execute_result"
    }
   ],
   "source": [
    "from typing import Any\n",
    "def max(lst:Any):\n",
    "    max=lst[0]\n",
    "    min=lst[0]\n",
    "    for i in range(1,len(lst)):\n",
    "        if lst[i]>max:\n",
    "            max=lst[i]\n",
    "        elif lst[i]<min:\n",
    "            min=lst[i]\n",
    "    return (min,max)\n",
    "  \n",
    "\n",
    "\n",
    "max([190,66,54,5,98,32,21,108,2])\n",
    "\n",
    "     "
   ]
  },
  {
   "cell_type": "code",
   "execution_count": 64,
   "metadata": {},
   "outputs": [
    {
     "data": {
      "text/plain": [
       "120"
      ]
     },
     "execution_count": 64,
     "metadata": {},
     "output_type": "execute_result"
    }
   ],
   "source": [
    "def sumOfSquare(n:int):\n",
    "    sum=0\n",
    "    for k in range(1,n):\n",
    "            if k%2==0:\n",
    "                sum+=k*k\n",
    "    return sum\n",
    "    \n",
    "sumOfSquare(10)"
   ]
  },
  {
   "cell_type": "code",
   "execution_count": 66,
   "metadata": {},
   "outputs": [
    {
     "data": {
      "text/plain": [
       "120"
      ]
     },
     "execution_count": 66,
     "metadata": {},
     "output_type": "execute_result"
    }
   ],
   "source": [
    "def sumOfSquareComp(n:int):\n",
    "    return sum([k*k for k in range(1,n) if n%k==0])\n",
    "    \n",
    "\n",
    "sumOfSquare(10)\n"
   ]
  },
  {
   "cell_type": "code",
   "execution_count": 74,
   "metadata": {},
   "outputs": [
    {
     "data": {
      "text/plain": [
       "[8, 6, 4, 2, 0, -2, -4, -6, -8]"
      ]
     },
     "execution_count": 74,
     "metadata": {},
     "output_type": "execute_result"
    }
   ],
   "source": [
    "def rangeOfValues()->list[int]:\n",
    "    res:list[int]=[]\n",
    "    for k in range(8,-10,-2):\n",
    "        res.append(k)\n",
    "    return res\n",
    "\n",
    "rangeOfValues()"
   ]
  },
  {
   "cell_type": "code",
   "execution_count": 81,
   "metadata": {},
   "outputs": [
    {
     "data": {
      "text/plain": [
       "[1, 2, 4, 8, 16, 32, 64, 128, 256]"
      ]
     },
     "execution_count": 81,
     "metadata": {},
     "output_type": "execute_result"
    }
   ],
   "source": [
    "def produceList(n:int):\n",
    "    return [pow(2,k) for k in range(0,n-1)]\n",
    "\n",
    "produceList(10)"
   ]
  },
  {
   "cell_type": "code",
   "execution_count": 98,
   "metadata": {},
   "outputs": [
    {
     "data": {
      "text/plain": [
       "2"
      ]
     },
     "execution_count": 98,
     "metadata": {},
     "output_type": "execute_result"
    }
   ],
   "source": [
    "import random\n",
    "\n",
    "def choice(data:list[int]):\n",
    "    rand =  random.randrange(0,len(data))\n",
    "    return data[rand]\n",
    "\n",
    "choice([1,2,3,4])"
   ]
  },
  {
   "cell_type": "code",
   "execution_count": 26,
   "metadata": {},
   "outputs": [
    {
     "data": {
      "text/plain": [
       "5"
      ]
     },
     "execution_count": 26,
     "metadata": {},
     "output_type": "execute_result"
    }
   ],
   "source": [
    "from math import sqrt\n",
    "\n",
    "def norm(v:list[int],p:int=2):\n",
    "    sum=0\n",
    "    for k in v:\n",
    "        sum+=k**p \n",
    "    return int(sqrt(sum))\n",
    "\n",
    "norm([3,4])"
   ]
  },
  {
   "cell_type": "code",
   "execution_count": 11,
   "metadata": {},
   "outputs": [
    {
     "name": "stdout",
     "output_type": "stream",
     "text": [
      "<class 'type'>\n"
     ]
    }
   ],
   "source": [
    "print(type(type(int)))"
   ]
  },
  {
   "cell_type": "code",
   "execution_count": 14,
   "metadata": {},
   "outputs": [
    {
     "data": {
      "text/plain": [
       "'welcome'"
      ]
     },
     "execution_count": 14,
     "metadata": {},
     "output_type": "execute_result"
    }
   ],
   "source": [
    "\"welcome\".strip()"
   ]
  },
  {
   "cell_type": "code",
   "execution_count": 18,
   "metadata": {},
   "outputs": [
    {
     "data": {
      "text/plain": [
       "65"
      ]
     },
     "execution_count": 18,
     "metadata": {},
     "output_type": "execute_result"
    }
   ],
   "source": [
    "ord('A')"
   ]
  },
  {
   "cell_type": "code",
   "execution_count": 35,
   "metadata": {},
   "outputs": [
    {
     "data": {
      "text/plain": [
       "'647'"
      ]
     },
     "execution_count": 35,
     "metadata": {},
     "output_type": "execute_result"
    }
   ],
   "source": [
    "\n",
    "def get_secrect_num(num_digits:int):\n",
    "    val=list('0123456789')\n",
    "    random.shuffle(val)\n",
    "    res=\"\"\n",
    "    for i in range(0,num_digits):\n",
    "        res+=val[i]\n",
    "    return res\n",
    "\n",
    "\n",
    "get_secrect_num(3)"
   ]
  },
  {
   "cell_type": "code",
   "execution_count": 38,
   "metadata": {},
   "outputs": [
    {
     "data": {
      "text/plain": [
       "'PicoFermi'"
      ]
     },
     "execution_count": 38,
     "metadata": {},
     "output_type": "execute_result"
    }
   ],
   "source": [
    "def get_clues(guess:str,screctNum:str):\n",
    "    if guess==screctNum:\n",
    "        return \"You got it!\"\n",
    "    clues:list[str]=[]\n",
    "    for i in range(len(guess)):\n",
    "        if guess[i]==screctNum[i]:\n",
    "            clues.append(\"Fermi\")\n",
    "        elif guess[i] in screctNum:\n",
    "            clues.append(\"Pico\")\n",
    "        if len(clues)==0:\n",
    "            clues.append(\"Bagels\")\n",
    "        \n",
    "    return ''.join(clues)\n",
    "\n",
    "get_clues('843',\"248\")"
   ]
  },
  {
   "cell_type": "code",
   "execution_count": null,
   "metadata": {},
   "outputs": [],
   "source": [
    "\n",
    "\n"
   ]
  }
 ],
 "metadata": {
  "interpreter": {
   "hash": "31f2aee4e71d21fbe5cf8b01ff0e069b9275f58929596ceb00d14d90e3e16cd6"
  },
  "kernelspec": {
   "display_name": "Python 3.8.9 64-bit",
   "language": "python",
   "name": "python3"
  },
  "language_info": {
   "codemirror_mode": {
    "name": "ipython",
    "version": 3
   },
   "file_extension": ".py",
   "mimetype": "text/x-python",
   "name": "python",
   "nbconvert_exporter": "python",
   "pygments_lexer": "ipython3",
   "version": "3.8.9"
  },
  "orig_nbformat": 4
 },
 "nbformat": 4,
 "nbformat_minor": 2
}
