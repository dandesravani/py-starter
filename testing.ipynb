{
 "cells": [
  {
   "cell_type": "code",
   "execution_count": 1,
   "metadata": {},
   "outputs": [
    {
     "data": {
      "text/plain": [
       "[4, 3, 2, 1]"
      ]
     },
     "execution_count": 1,
     "metadata": {},
     "output_type": "execute_result"
    }
   ],
   "source": [
    "def reverse_integers(lst:list[int]):\n",
    "  i=len(lst)-1\n",
    "  res:list[int]=[]\n",
    "  while(i>=0):\n",
    "    res.append(lst[i])\n",
    "    i= i-1\n",
    "  return res\n",
    "\n",
    "reverse_integers([1,2,3,4])\n"
   ]
  },
  {
   "cell_type": "code",
   "execution_count": 2,
   "metadata": {},
   "outputs": [
    {
     "data": {
      "text/plain": [
       "(5, 4)"
      ]
     },
     "execution_count": 2,
     "metadata": {},
     "output_type": "execute_result"
    }
   ],
   "source": [
    "from typing import Optional\n",
    "\n",
    "def distinct_pair(lst:list[int])->Optional[tuple[int,int]]:\n",
    "  i=0\n",
    "  while(i<=len(lst)):\n",
    "    if lst[i]!=lst[i+1] and (lst[i]*lst[i+1]) %2==0:\n",
    "      return lst[i],lst[i+1]\n",
    "    else:\n",
    "      i=i+1\n",
    "  return None\n",
    "\n",
    "distinct_pair([3,3,3,5,5,4])  \n"
   ]
  },
  {
   "cell_type": "code",
   "execution_count": 3,
   "metadata": {},
   "outputs": [
    {
     "data": {
      "text/plain": [
       "5"
      ]
     },
     "execution_count": 3,
     "metadata": {},
     "output_type": "execute_result"
    }
   ],
   "source": [
    "def count_unique(lst:list[int])->int:\n",
    "  res:list[int] = []\n",
    "  count=0\n",
    "  for k in lst:\n",
    "    if k not in res:\n",
    "      res.append(k)\n",
    "      count+=1\n",
    "  return count\n",
    "\n",
    "count_unique([3,3,3,5,5,4])\n",
    "count_unique([3,4,5,6,7,6,7])\n",
    "  "
   ]
  },
  {
   "cell_type": "code",
   "execution_count": 4,
   "metadata": {},
   "outputs": [],
   "source": [
    "def produce_alphas(str:str):\n",
    "  return [s for s in str]\n",
    "\n",
    "# produce_alphas('abcdefghijklmnopqrstuvwxyz')"
   ]
  },
  {
   "cell_type": "code",
   "execution_count": 5,
   "metadata": {},
   "outputs": [
    {
     "data": {
      "text/plain": [
       "[5, 4, 3]"
      ]
     },
     "execution_count": 5,
     "metadata": {},
     "output_type": "execute_result"
    }
   ],
   "source": [
    "from random import randint\n",
    "\n",
    "def shuffle(lst:list[int])->list[int]:\n",
    "  i=0\n",
    "  while(i<=len(lst)-1):\n",
    "    rand= randint(i,len(lst)-1)\n",
    "    lst[i],lst[rand] = lst[rand],lst[i]\n",
    "    i=i+1\n",
    "  return lst\n",
    "\n",
    "shuffle([3,4,5])\n",
    "\n",
    "\n"
   ]
  },
  {
   "cell_type": "code",
   "execution_count": 12,
   "metadata": {},
   "outputs": [],
   "source": [
    "def read_lines(filename:str)->list[str]:\n",
    "  res:list[str]=[]\n",
    "  fp = open(filename)\n",
    "  lines = fp.readlines()\n",
    "  for line in lines:\n",
    "    try:\n",
    "      if len(lines) !=0:\n",
    "        res.append(line.strip('\\n'))\n",
    "    except EOFError:\n",
    "      print(\"you have reached end o file\")\n",
    "  res.reverse()\n",
    "  return res\n",
    "\n",
    "# read_lines('./class-notes.md')"
   ]
  },
  {
   "cell_type": "code",
   "execution_count": 17,
   "metadata": {},
   "outputs": [],
   "source": [
    "def read_lines_in(filename:str)->list[str]:\n",
    "  res:list[str]=[]\n",
    "  fp = open(filename)\n",
    "  lines = fp.readlines()\n",
    "  i=0\n",
    "  while(i<len(lines)-1):\n",
    "    try:\n",
    "      res.append(lines[i])\n",
    "      i=i+1\n",
    "    except EOFError:\n",
    "      print(\"reached end of file\")\n",
    "  res.reverse()\n",
    "  return res\n",
    "\n",
    "# read_lines_in('./class-notes.md')"
   ]
  },
  {
   "cell_type": "code",
   "execution_count": 14,
   "metadata": {},
   "outputs": [
    {
     "data": {
      "text/plain": [
       "[False, True, False, True, False, True]"
      ]
     },
     "execution_count": 14,
     "metadata": {},
     "output_type": "execute_result"
    }
   ],
   "source": [
    "from typing import Optional\n",
    "\n",
    "def is_even(n:int)->Optional[bool]: \n",
    "  while n > 1:\n",
    "    n -= 2\n",
    "  return True if n == 0 else False\n",
    "\n",
    "[is_even(i) for i in [3, 4, 5, 6, 7, 8]]"
   ]
  },
  {
   "cell_type": "code",
   "execution_count": 10,
   "metadata": {},
   "outputs": [
    {
     "data": {
      "text/plain": [
       "[8, 15, 24]"
      ]
     },
     "execution_count": 10,
     "metadata": {},
     "output_type": "execute_result"
    }
   ],
   "source": [
    "def dot_product(lst1:list[int],lst2:list[int])->list[int]:\n",
    "  res:list[int]=[]\n",
    "  i=0\n",
    "  while i<len(lst1):\n",
    "    res.append(lst1[i]*lst2[i])\n",
    "    i=i+1\n",
    "  return res\n",
    "\n",
    "dot_product([2,3,4],[4,5,6])"
   ]
  },
  {
   "cell_type": "code",
   "execution_count": 27,
   "metadata": {},
   "outputs": [
    {
     "data": {
      "text/plain": [
       "'Lets try Mike'"
      ]
     },
     "execution_count": 27,
     "metadata": {},
     "output_type": "execute_result"
    }
   ],
   "source": [
    "import string\n",
    "\n",
    "def get_plain_text(text:str)->str:\n",
    "  res:str=''\n",
    "  for k in text:\n",
    "    if k not in string.punctuation:\n",
    "      res+=k\n",
    "  return res\n",
    "\n",
    "get_plain_text(\"Let's try, Mike\")"
   ]
  },
  {
   "cell_type": "code",
   "execution_count": 34,
   "metadata": {},
   "outputs": [
    {
     "data": {
      "text/plain": [
       "'intergers 2,6,4 satisfies a=b-c formula'"
      ]
     },
     "execution_count": 34,
     "metadata": {},
     "output_type": "execute_result"
    }
   ],
   "source": [
    "from typing import Optional\n",
    "\n",
    "def arithmetic_formula(a:int,b:int,c:int)->Optional[str]:\n",
    "  if a+b == c:\n",
    "    return f\"intergers {a},{b},{c} satisfies a+b=c formula\"\n",
    "  elif a==b-c: \n",
    "    return f\"intergers {a},{b},{c} satisfies a=b-c formula\"\n",
    "  elif a*b==c:\n",
    "    return f\"intergers {a},{b},{c} satisfies a*b=c formula\"\n",
    "  else:\n",
    "    return None\n",
    "\n",
    "arithmetic_formula(2,6,4)"
   ]
  },
  {
   "cell_type": "code",
   "execution_count": 42,
   "metadata": {},
   "outputs": [
    {
     "name": "stdout",
     "output_type": "stream",
     "text": [
      "1\n",
      "2\n",
      "5\n",
      "10\n"
     ]
    }
   ],
   "source": [
    "from typing import Iterable\n",
    "\n",
    "def factors(n:int)->Iterable[int]:\n",
    "  k=1\n",
    "  while k<=n:\n",
    "    if n%k==0:\n",
    "      yield k\n",
    "    k=k+1\n",
    "  if k*k ==n:\n",
    "    yield k\n",
    "\n",
    "for k in factors(10):\n",
    "  print(k)\n",
    "\n"
   ]
  }
 ],
 "metadata": {
  "interpreter": {
   "hash": "36cf16204b8548560b1c020c4e8fb5b57f0e4c58016f52f2d4be01e192833930"
  },
  "kernelspec": {
   "display_name": "Python 3.9.10 64-bit",
   "language": "python",
   "name": "python3"
  },
  "language_info": {
   "codemirror_mode": {
    "name": "ipython",
    "version": 3
   },
   "file_extension": ".py",
   "mimetype": "text/x-python",
   "name": "python",
   "nbconvert_exporter": "python",
   "pygments_lexer": "ipython3",
   "version": "3.9.10"
  },
  "orig_nbformat": 4
 },
 "nbformat": 4,
 "nbformat_minor": 2
}
